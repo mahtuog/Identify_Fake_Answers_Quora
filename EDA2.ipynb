{
 "cells": [
  {
   "cell_type": "code",
   "execution_count": 444,
   "metadata": {},
   "outputs": [],
   "source": [
    "import matplotlib.pyplot as plt\n",
    "%matplotlib inline\n",
    "import pandas as pd\n",
    "import itertools\n",
    "from collections import Counter\n",
    "import nltk\n",
    "import seaborn as sns"
   ]
  },
  {
   "cell_type": "code",
   "execution_count": 6,
   "metadata": {},
   "outputs": [],
   "source": [
    "data = pd.read_csv('Classified_data_combined.csv')\n",
    "data = data.drop(['Unnamed: 0','Unnamed: 0.1','sheet_number'],axis=1)"
   ]
  },
  {
   "cell_type": "code",
   "execution_count": 9,
   "metadata": {},
   "outputs": [
    {
     "data": {
      "text/plain": [
       "Index(['Answer', 'Answered_On', 'Classification', 'Occupation', 'Profile_Link',\n",
       "       'User_Name', 'question'],\n",
       "      dtype='object')"
      ]
     },
     "execution_count": 9,
     "metadata": {},
     "output_type": "execute_result"
    }
   ],
   "source": [
    "data.columns"
   ]
  },
  {
   "cell_type": "code",
   "execution_count": 305,
   "metadata": {},
   "outputs": [],
   "source": [
    "data['Classification'] = data['Classification'].map({0:'Non Spam',1:'Spam',2:'Marketing'})"
   ]
  },
  {
   "cell_type": "code",
   "execution_count": 306,
   "metadata": {},
   "outputs": [],
   "source": [
    "data = data[['User_Name','Occupation', 'Profile_Link', 'question','Answer', 'Answered_On', 'Classification']]"
   ]
  },
  {
   "cell_type": "code",
   "execution_count": 307,
   "metadata": {},
   "outputs": [
    {
     "data": {
      "text/plain": [
       "Spam         0.692893\n",
       "Non Spam     0.189086\n",
       "Marketing    0.118020\n",
       "Name: Classification, dtype: float64"
      ]
     },
     "execution_count": 307,
     "metadata": {},
     "output_type": "execute_result"
    }
   ],
   "source": [
    "data['Classification'].value_counts(normalize=True)"
   ]
  },
  {
   "cell_type": "code",
   "execution_count": 308,
   "metadata": {},
   "outputs": [],
   "source": [
    "all_answers = data['Answer']\n",
    "all_answers = all_answers.str.replace('[^a-zA-Z0-9 ]',' ')"
   ]
  },
  {
   "cell_type": "code",
   "execution_count": 309,
   "metadata": {},
   "outputs": [],
   "source": [
    "from nltk.corpus import stopwords\n",
    "stop_words = set(stopwords.words('english'))\n",
    "custom_stop = ['learning','data','like','get','tools',\n",
    "               'learn','course','courses','training','big','online','career','industry','science','hadoop']\n",
    "for i in custom_stop:\n",
    "    stop_words.add(i)"
   ]
  },
  {
   "cell_type": "code",
   "execution_count": 310,
   "metadata": {},
   "outputs": [],
   "source": [
    "cleaned_answers = []\n",
    "for answer in all_answers:\n",
    "    stop_words_removed = [w for w in nltk.word_tokenize(answer.lower()) if w not in stop_words]\n",
    "    answer_joined = ' '.join(stop_words_removed)\n",
    "    cleaned_answers.append(answer_joined)"
   ]
  },
  {
   "cell_type": "code",
   "execution_count": 311,
   "metadata": {},
   "outputs": [
    {
     "name": "stderr",
     "output_type": "stream",
     "text": [
      "C:\\Users\\Goutham\\Anaconda3\\lib\\site-packages\\ipykernel_launcher.py:1: SettingWithCopyWarning: \n",
      "A value is trying to be set on a copy of a slice from a DataFrame.\n",
      "Try using .loc[row_indexer,col_indexer] = value instead\n",
      "\n",
      "See the caveats in the documentation: http://pandas.pydata.org/pandas-docs/stable/indexing.html#indexing-view-versus-copy\n",
      "  \"\"\"Entry point for launching an IPython kernel.\n"
     ]
    }
   ],
   "source": [
    "data['Cleaned_Answers'] = cleaned_answers"
   ]
  },
  {
   "cell_type": "markdown",
   "metadata": {},
   "source": [
    "****"
   ]
  },
  {
   "cell_type": "markdown",
   "metadata": {},
   "source": [
    "### Feature Engineerinng"
   ]
  },
  {
   "cell_type": "markdown",
   "metadata": {},
   "source": [
    "**1. Length of answers for each type of review**"
   ]
  },
  {
   "cell_type": "code",
   "execution_count": 312,
   "metadata": {},
   "outputs": [
    {
     "name": "stderr",
     "output_type": "stream",
     "text": [
      "C:\\Users\\Goutham\\Anaconda3\\lib\\site-packages\\ipykernel_launcher.py:1: SettingWithCopyWarning: \n",
      "A value is trying to be set on a copy of a slice from a DataFrame.\n",
      "Try using .loc[row_indexer,col_indexer] = value instead\n",
      "\n",
      "See the caveats in the documentation: http://pandas.pydata.org/pandas-docs/stable/indexing.html#indexing-view-versus-copy\n",
      "  \"\"\"Entry point for launching an IPython kernel.\n"
     ]
    }
   ],
   "source": [
    "data['Answer_Length'] = data['Cleaned_Answers'].apply(lambda x: len(x))"
   ]
  },
  {
   "cell_type": "code",
   "execution_count": 313,
   "metadata": {},
   "outputs": [
    {
     "data": {
      "text/plain": [
       "Classification\n",
       "Marketing    1535.032258\n",
       "Non Spam      846.154362\n",
       "Spam         1141.591575\n",
       "Name: Answer_Length, dtype: float64"
      ]
     },
     "execution_count": 313,
     "metadata": {},
     "output_type": "execute_result"
    }
   ],
   "source": [
    "data.groupby('Classification').mean()['Answer_Length']"
   ]
  },
  {
   "cell_type": "markdown",
   "metadata": {},
   "source": [
    "**2. Number of unique words in each answer.**"
   ]
  },
  {
   "cell_type": "code",
   "execution_count": 320,
   "metadata": {},
   "outputs": [],
   "source": [
    "def unique_words(answer):\n",
    "    answer_tokenized = nltk.tokenize.word_tokenize(answer)\n",
    "    counts = Counter(answer_tokenized)\n",
    "    return(len(counts))"
   ]
  },
  {
   "cell_type": "code",
   "execution_count": 321,
   "metadata": {},
   "outputs": [
    {
     "name": "stderr",
     "output_type": "stream",
     "text": [
      "C:\\Users\\Goutham\\Anaconda3\\lib\\site-packages\\ipykernel_launcher.py:1: SettingWithCopyWarning: \n",
      "A value is trying to be set on a copy of a slice from a DataFrame.\n",
      "Try using .loc[row_indexer,col_indexer] = value instead\n",
      "\n",
      "See the caveats in the documentation: http://pandas.pydata.org/pandas-docs/stable/indexing.html#indexing-view-versus-copy\n",
      "  \"\"\"Entry point for launching an IPython kernel.\n"
     ]
    }
   ],
   "source": [
    "data['Unique_Words'] = data['Cleaned_Answers'].apply(unique_words)"
   ]
  },
  {
   "cell_type": "code",
   "execution_count": 322,
   "metadata": {},
   "outputs": [
    {
     "data": {
      "text/plain": [
       "Classification\n",
       "Marketing    148.537634\n",
       "Non Spam      81.838926\n",
       "Spam         106.844322\n",
       "Name: Unique_Words, dtype: float64"
      ]
     },
     "execution_count": 322,
     "metadata": {},
     "output_type": "execute_result"
    }
   ],
   "source": [
    "data.groupby('Classification').mean()['Unique_Words']"
   ]
  },
  {
   "cell_type": "markdown",
   "metadata": {},
   "source": [
    "**3. Most common words**"
   ]
  },
  {
   "cell_type": "code",
   "execution_count": 190,
   "metadata": {},
   "outputs": [],
   "source": [
    "all_ones,all_twos,all_zeros = [],[],[]\n",
    "ones = [nltk.tokenize.word_tokenize(w) for w in data[data['Classification'] == 1]['Cleaned_Answers']]\n",
    "twos = [nltk.tokenize.word_tokenize(w) for w in data[data['Classification'] == 2]['Cleaned_Answers']]\n",
    "zeros = [nltk.tokenize.word_tokenize(w) for w in data[data['Classification'] == 0]['Cleaned_Answers']]"
   ]
  },
  {
   "cell_type": "code",
   "execution_count": 191,
   "metadata": {},
   "outputs": [],
   "source": [
    "for i in ones:\n",
    "    all_ones.extend(i)\n",
    "for i in twos:\n",
    "    all_twos.extend(i)\n",
    "for i in zeros:\n",
    "    all_zeros.extend(i)"
   ]
  },
  {
   "cell_type": "code",
   "execution_count": 192,
   "metadata": {},
   "outputs": [],
   "source": [
    "ones_count = Counter(all_ones)\n",
    "twos_count = Counter(all_twos)\n",
    "zeros_count = Counter(all_zeros)"
   ]
  },
  {
   "cell_type": "code",
   "execution_count": 193,
   "metadata": {},
   "outputs": [
    {
     "data": {
      "text/plain": [
       "analytics     1011\n",
       "best           690\n",
       "institute      599\n",
       "time           467\n",
       "one            459\n",
       "also           449\n",
       "program        406\n",
       "experience     371\n",
       "help           365\n",
       "real           360\n",
       "dtype: int64"
      ]
     },
     "execution_count": 193,
     "metadata": {},
     "output_type": "execute_result"
    }
   ],
   "source": [
    "pd.Series(ones_count).sort_values(ascending=False)[:10]"
   ]
  },
  {
   "cell_type": "code",
   "execution_count": 194,
   "metadata": {},
   "outputs": [
    {
     "data": {
      "text/plain": [
       "analytics    232\n",
       "best         162\n",
       "program      160\n",
       "real         130\n",
       "get          119\n",
       "business     114\n",
       "one          108\n",
       "would        102\n",
       "like          91\n",
       "also          89\n",
       "dtype: int64"
      ]
     },
     "execution_count": 194,
     "metadata": {},
     "output_type": "execute_result"
    }
   ],
   "source": [
    "pd.Series(twos_count).sort_values(ascending=False)[:10]"
   ]
  },
  {
   "cell_type": "code",
   "execution_count": 195,
   "metadata": {},
   "outputs": [
    {
     "data": {
      "text/plain": [
       "analytics      217\n",
       "best           134\n",
       "get            125\n",
       "institute      106\n",
       "like            98\n",
       "also            86\n",
       "one             84\n",
       "information     84\n",
       "business        81\n",
       "time            78\n",
       "dtype: int64"
      ]
     },
     "execution_count": 195,
     "metadata": {},
     "output_type": "execute_result"
    }
   ],
   "source": [
    "pd.Series(zeros_count).sort_values(ascending=False)[:10]"
   ]
  },
  {
   "cell_type": "markdown",
   "metadata": {},
   "source": [
    "**4. Repetition in the sentences**"
   ]
  },
  {
   "cell_type": "code",
   "execution_count": 323,
   "metadata": {},
   "outputs": [
    {
     "name": "stderr",
     "output_type": "stream",
     "text": [
      "C:\\Users\\Goutham\\Anaconda3\\lib\\site-packages\\ipykernel_launcher.py:1: SettingWithCopyWarning: \n",
      "A value is trying to be set on a copy of a slice from a DataFrame.\n",
      "Try using .loc[row_indexer,col_indexer] = value instead\n",
      "\n",
      "See the caveats in the documentation: http://pandas.pydata.org/pandas-docs/stable/indexing.html#indexing-view-versus-copy\n",
      "  \"\"\"Entry point for launching an IPython kernel.\n"
     ]
    }
   ],
   "source": [
    "data['Repetition_Ratio'] = data['Answer_Length'] / data['Unique_Words']"
   ]
  },
  {
   "cell_type": "code",
   "execution_count": 324,
   "metadata": {},
   "outputs": [
    {
     "data": {
      "text/plain": [
       "Classification\n",
       "Marketing    9.886790\n",
       "Non Spam     9.093657\n",
       "Spam         9.754139\n",
       "Name: Repetition_Ratio, dtype: float64"
      ]
     },
     "execution_count": 324,
     "metadata": {},
     "output_type": "execute_result"
    }
   ],
   "source": [
    "data.groupby('Classification').mean()['Repetition_Ratio']"
   ]
  },
  {
   "cell_type": "markdown",
   "metadata": {},
   "source": [
    "**5. Phone Numbers**"
   ]
  },
  {
   "cell_type": "code",
   "execution_count": 325,
   "metadata": {},
   "outputs": [
    {
     "name": "stderr",
     "output_type": "stream",
     "text": [
      "C:\\Users\\Goutham\\Anaconda3\\lib\\site-packages\\ipykernel_launcher.py:1: SettingWithCopyWarning: \n",
      "A value is trying to be set on a copy of a slice from a DataFrame.\n",
      "Try using .loc[row_indexer,col_indexer] = value instead\n",
      "\n",
      "See the caveats in the documentation: http://pandas.pydata.org/pandas-docs/stable/indexing.html#indexing-view-versus-copy\n",
      "  \"\"\"Entry point for launching an IPython kernel.\n"
     ]
    }
   ],
   "source": [
    "data['Phone_Number_Yes'] = data['Cleaned_Answers'].str.contains('\\d{10}|\\d{11}')"
   ]
  },
  {
   "cell_type": "code",
   "execution_count": 326,
   "metadata": {},
   "outputs": [
    {
     "data": {
      "text/html": [
       "<div>\n",
       "<style scoped>\n",
       "    .dataframe tbody tr th:only-of-type {\n",
       "        vertical-align: middle;\n",
       "    }\n",
       "\n",
       "    .dataframe tbody tr th {\n",
       "        vertical-align: top;\n",
       "    }\n",
       "\n",
       "    .dataframe thead th {\n",
       "        text-align: right;\n",
       "    }\n",
       "</style>\n",
       "<table border=\"1\" class=\"dataframe\">\n",
       "  <thead>\n",
       "    <tr style=\"text-align: right;\">\n",
       "      <th></th>\n",
       "      <th>Classification</th>\n",
       "      <th>Phone_Number_Yes</th>\n",
       "      <th>User_Name</th>\n",
       "    </tr>\n",
       "  </thead>\n",
       "  <tbody>\n",
       "    <tr>\n",
       "      <th>0</th>\n",
       "      <td>Marketing</td>\n",
       "      <td>False</td>\n",
       "      <td>89</td>\n",
       "    </tr>\n",
       "    <tr>\n",
       "      <th>1</th>\n",
       "      <td>Marketing</td>\n",
       "      <td>True</td>\n",
       "      <td>4</td>\n",
       "    </tr>\n",
       "    <tr>\n",
       "      <th>2</th>\n",
       "      <td>Non Spam</td>\n",
       "      <td>False</td>\n",
       "      <td>144</td>\n",
       "    </tr>\n",
       "    <tr>\n",
       "      <th>3</th>\n",
       "      <td>Non Spam</td>\n",
       "      <td>True</td>\n",
       "      <td>5</td>\n",
       "    </tr>\n",
       "    <tr>\n",
       "      <th>4</th>\n",
       "      <td>Spam</td>\n",
       "      <td>False</td>\n",
       "      <td>450</td>\n",
       "    </tr>\n",
       "    <tr>\n",
       "      <th>5</th>\n",
       "      <td>Spam</td>\n",
       "      <td>True</td>\n",
       "      <td>96</td>\n",
       "    </tr>\n",
       "  </tbody>\n",
       "</table>\n",
       "</div>"
      ],
      "text/plain": [
       "  Classification  Phone_Number_Yes  User_Name\n",
       "0      Marketing             False         89\n",
       "1      Marketing              True          4\n",
       "2       Non Spam             False        144\n",
       "3       Non Spam              True          5\n",
       "4           Spam             False        450\n",
       "5           Spam              True         96"
      ]
     },
     "execution_count": 326,
     "metadata": {},
     "output_type": "execute_result"
    }
   ],
   "source": [
    "data.groupby(['Classification','Phone_Number_Yes'],as_index=False).count()[['Classification','Phone_Number_Yes','User_Name']]"
   ]
  },
  {
   "cell_type": "markdown",
   "metadata": {},
   "source": [
    "**6. Insitution Names Count** <br>\n",
    "Known Institutions - Besant, acadgild, imarticus, simplilearn, dataflair, evarcity, techstack, intellipaat, madrid"
   ]
  },
  {
   "cell_type": "code",
   "execution_count": 344,
   "metadata": {},
   "outputs": [],
   "source": [
    "institutions = ['besant', 'acadgild', 'imarticus', 'simplilearn', 'dataflair', 'evarcity', 'techstack', 'intellipaat', 'madrid',\n",
    "               'sp jain global','digital vidya','jigsaw','learnbay']\n",
    "answers = data['Answer'].str.lower()"
   ]
  },
  {
   "cell_type": "code",
   "execution_count": 251,
   "metadata": {},
   "outputs": [
    {
     "data": {
      "text/plain": [
       "'for i in answers[:5]:\\n    insti_count = {}\\n    for j in institutions:\\n        insti_count[j] = i.count(j)\\n    for i in insti_count:\\n        if insti_count[i] == max(insti_count.values()):\\n            print(i,insti_count[i])\\n            break'"
      ]
     },
     "execution_count": 251,
     "metadata": {},
     "output_type": "execute_result"
    }
   ],
   "source": [
    "'''for i in answers[:5]:\n",
    "    insti_count = {}\n",
    "    for j in institutions:\n",
    "        insti_count[j] = i.count(j)\n",
    "    for i in insti_count:\n",
    "        if insti_count[i] == max(insti_count.values()):\n",
    "            print(i,insti_count[i])\n",
    "            break'''"
   ]
  },
  {
   "cell_type": "code",
   "execution_count": 409,
   "metadata": {},
   "outputs": [],
   "source": [
    "def max_institution_counts(x):\n",
    "    insti_count = {}\n",
    "    for j in institutions:\n",
    "        insti_count[j] = x.count(j)\n",
    "    for i in insti_count:\n",
    "        if insti_count[i] == max(insti_count.values()):\n",
    "            return([i,insti_count[i]])"
   ]
  },
  {
   "cell_type": "code",
   "execution_count": 410,
   "metadata": {},
   "outputs": [],
   "source": [
    "data['Max_Institution_Count'] = data['Answer'].str.lower().apply(max_institution_counts)"
   ]
  },
  {
   "cell_type": "code",
   "execution_count": 411,
   "metadata": {},
   "outputs": [],
   "source": [
    "def total_institution_mentions(x):\n",
    "    total_mentions = 0\n",
    "    for j in institutions:\n",
    "        total_mentions += x.count(j)\n",
    "        #print(j,x.count(j))\n",
    "    return(total_mentions)"
   ]
  },
  {
   "cell_type": "code",
   "execution_count": 412,
   "metadata": {},
   "outputs": [],
   "source": [
    "data['Total_Institution_Mentions'] = data['Answer'].str.lower().apply(total_institution_mentions)"
   ]
  },
  {
   "cell_type": "code",
   "execution_count": null,
   "metadata": {},
   "outputs": [],
   "source": []
  },
  {
   "cell_type": "code",
   "execution_count": 349,
   "metadata": {},
   "outputs": [
    {
     "data": {
      "text/plain": [
       "Classification\n",
       "Marketing    0.741935\n",
       "Non Spam     0.402685\n",
       "Spam         1.025641\n",
       "Name: Max_Institution_Count, dtype: float64"
      ]
     },
     "execution_count": 349,
     "metadata": {},
     "output_type": "execute_result"
    }
   ],
   "source": [
    "data.groupby('Classification').mean()['Max_Institution_Count']"
   ]
  },
  {
   "cell_type": "code",
   "execution_count": null,
   "metadata": {},
   "outputs": [],
   "source": []
  },
  {
   "cell_type": "code",
   "execution_count": 350,
   "metadata": {},
   "outputs": [
    {
     "data": {
      "text/plain": [
       "'Hey, You asked here What are some good Hadoop and big data training institutes in Delhi and NCR?List of Best Hadoop and Big Data Training institutes in Delhi and NCR are:-Techstack | #1 Big Data Institute in Delhi NCRSimplilearnEdurekaIntellipaatDataFlairAccording to Google Results and Previous Student’s feedback, Techstack is the best hadoop and big data training institute in Delhi and NCR. I have done lots of research from various MNC in which Hadoop and Big Data process is there like JustDial, Sapient, IBM, etc.. and guess what i have found that they hired most of students from Techstack institute directly.What Techstack says about their hadoop and big data training?We are not looking here for money while giving training to students as much as we want that students can learn in depth. For this, we have made our training process very clear about practicals, projects and assessments. We have to push hard them to get best and we are proud that we are doing good still.- Prashant Gangwar, Hadoop ExpertWhat student wants in their Hadoop and Big data training from us?Ground level Training for Non-technical: Techstack has combination of IT and Non-IT students in their big data hadoop training. To learn Hadoop and Big data in depth, they must know basic of JAVA, SQL and OOPS concept. First 2 weeks, they train students about basic, So that they can easily understand Big data Hadoop. And that’s thing make Techstack apart from other institutes.Course Materials : To learn anything in good way, they must a hierarchy. Techstack has best strategies in course materials. They know how to train students from Basic to Advanced level without panic. Prashant sir has their notes of every modules which help every students to learn things in good manner.Practicals: Prashant has a belief in big data hadoop training that don’t teach students theory. They do things in projector and than tell everyone to repeat things in their system which helps every students to get things very easier.Live Class: Every training of Hadoop and Big Data are having on the projector. So students, can easily see how to do projects of Hadoop on their own systems.Assessments: To check capability of any students is must to check their knowledge by taking assessments. If they learnt well, they can easily pass the assessments but if not, they will fail and we will analyse where students are having a problem.Interview Preparation: HR Department of Techstack is taken care by Deepak Sir. they have very deep understanding of Company interview process. They teach students how to prepare resume for Big Data Hadoop Developer position and How to crack Interviews.Let’s Have a look on Techstack Infrastructure:-Techstack knows with best environments students can learn very well Hadoop and Big Data concepts.I guess you got your answer which is the good Hadoop and Big Data training institutes in Delhi and NCR. And if you still doubt, just take a live class from Techstack.Techstack has 500+ reviews which is far more than as compare to any other institutes:Big Data Analytics & Hadoop Training in Delhi | Top CertificationTechstack4th Floor, Plot 7 , Lane no 2 , Westend Marg Behind Saket Metro Gate no 2, Saidul-al-Ajaib, New Delhi-110030P: +91 9911941144, +91 9911921144'"
      ]
     },
     "execution_count": 350,
     "metadata": {},
     "output_type": "execute_result"
    }
   ],
   "source": [
    "data[(data['Max_Institution_Count'] != 0) & (data['Classification'] == 0)]\n",
    "data['Answer'].iloc[762]"
   ]
  },
  {
   "cell_type": "code",
   "execution_count": null,
   "metadata": {},
   "outputs": [],
   "source": []
  },
  {
   "cell_type": "code",
   "execution_count": null,
   "metadata": {},
   "outputs": [],
   "source": []
  },
  {
   "cell_type": "code",
   "execution_count": null,
   "metadata": {},
   "outputs": [],
   "source": []
  },
  {
   "cell_type": "code",
   "execution_count": null,
   "metadata": {},
   "outputs": [],
   "source": []
  },
  {
   "cell_type": "code",
   "execution_count": null,
   "metadata": {},
   "outputs": [],
   "source": []
  },
  {
   "cell_type": "code",
   "execution_count": 413,
   "metadata": {},
   "outputs": [],
   "source": [
    "data.to_csv('new_data.csv',index=False)\n",
    "new_data = pd.read_csv('new_data.csv')"
   ]
  },
  {
   "cell_type": "code",
   "execution_count": 414,
   "metadata": {},
   "outputs": [
    {
     "data": {
      "text/html": [
       "<div>\n",
       "<style scoped>\n",
       "    .dataframe tbody tr th:only-of-type {\n",
       "        vertical-align: middle;\n",
       "    }\n",
       "\n",
       "    .dataframe tbody tr th {\n",
       "        vertical-align: top;\n",
       "    }\n",
       "\n",
       "    .dataframe thead th {\n",
       "        text-align: right;\n",
       "    }\n",
       "</style>\n",
       "<table border=\"1\" class=\"dataframe\">\n",
       "  <thead>\n",
       "    <tr style=\"text-align: right;\">\n",
       "      <th></th>\n",
       "      <th>Classification</th>\n",
       "      <th>Phone_Number_Yes</th>\n",
       "      <th>User_Name</th>\n",
       "    </tr>\n",
       "  </thead>\n",
       "  <tbody>\n",
       "    <tr>\n",
       "      <th>0</th>\n",
       "      <td>Marketing</td>\n",
       "      <td>False</td>\n",
       "      <td>89</td>\n",
       "    </tr>\n",
       "    <tr>\n",
       "      <th>1</th>\n",
       "      <td>Marketing</td>\n",
       "      <td>True</td>\n",
       "      <td>4</td>\n",
       "    </tr>\n",
       "    <tr>\n",
       "      <th>2</th>\n",
       "      <td>Non Spam</td>\n",
       "      <td>False</td>\n",
       "      <td>144</td>\n",
       "    </tr>\n",
       "    <tr>\n",
       "      <th>3</th>\n",
       "      <td>Non Spam</td>\n",
       "      <td>True</td>\n",
       "      <td>5</td>\n",
       "    </tr>\n",
       "    <tr>\n",
       "      <th>4</th>\n",
       "      <td>Spam</td>\n",
       "      <td>False</td>\n",
       "      <td>450</td>\n",
       "    </tr>\n",
       "    <tr>\n",
       "      <th>5</th>\n",
       "      <td>Spam</td>\n",
       "      <td>True</td>\n",
       "      <td>96</td>\n",
       "    </tr>\n",
       "  </tbody>\n",
       "</table>\n",
       "</div>"
      ],
      "text/plain": [
       "  Classification  Phone_Number_Yes  User_Name\n",
       "0      Marketing             False         89\n",
       "1      Marketing              True          4\n",
       "2       Non Spam             False        144\n",
       "3       Non Spam              True          5\n",
       "4           Spam             False        450\n",
       "5           Spam              True         96"
      ]
     },
     "execution_count": 414,
     "metadata": {},
     "output_type": "execute_result"
    }
   ],
   "source": [
    "new_data.groupby(['Classification','Phone_Number_Yes'],as_index=False).count()[['Classification','Phone_Number_Yes','User_Name']]"
   ]
  },
  {
   "cell_type": "code",
   "execution_count": 415,
   "metadata": {},
   "outputs": [
    {
     "data": {
      "text/plain": [
       "Index(['User_Name', 'Occupation', 'Profile_Link', 'question', 'Answer',\n",
       "       'Answered_On', 'Classification', 'Cleaned_Answers', 'Answer_Length',\n",
       "       'Unique_Words', 'Repetition_Ratio', 'Phone_Number_Yes',\n",
       "       'Max_Institution_Count', 'Total_Institution_Mentions'],\n",
       "      dtype='object')"
      ]
     },
     "execution_count": 415,
     "metadata": {},
     "output_type": "execute_result"
    }
   ],
   "source": [
    "new_data.columns"
   ]
  },
  {
   "cell_type": "code",
   "execution_count": 552,
   "metadata": {},
   "outputs": [
    {
     "name": "stdout",
     "output_type": "stream",
     "text": [
      "Int64Index([757, 756, 255, 748, 769, 767, 759, 762, 490, 537], dtype='int64')\n"
     ]
    },
    {
     "data": {
      "image/png": "[encoded data removed]",
      "text/plain": [
       "<Figure size 432x288 with 1 Axes>"
      ]
     },
     "metadata": {
      "needs_background": "light"
     },
     "output_type": "display_data"
    }
   ],
   "source": [
    "tot_mentions = new_data['Max_Institution_Count'].sort_values(ascending=False)[:10]\n",
    "x = tot_mentions.keys()\n",
    "y = pd.Series(tot_mentions.values)\n",
    "print(x)\n",
    "sns.barplot(x,y)\n",
    "plt.show()"
   ]
  },
  {
   "cell_type": "code",
   "execution_count": 522,
   "metadata": {},
   "outputs": [
    {
     "data": {
      "text/plain": [
       "<matplotlib.axes._subplots.AxesSubplot at 0x1b9c3683780>"
      ]
     },
     "execution_count": 522,
     "metadata": {},
     "output_type": "execute_result"
    },
    {
     "data": {
      "image/png": "[encoded data removed]",
      "text/plain": [
       "<Figure size 432x288 with 1 Axes>"
      ]
     },
     "metadata": {
      "needs_background": "light"
     },
     "output_type": "display_data"
    }
   ],
   "source": [
    "tot_mentions = new_data['Total_Institution_Mentions'].sort_values(ascending=False)[:10]\n",
    "x = tot_mentions.keys()\n",
    "y = tot_mentions.values\n",
    "sns.barplot(x,y)"
   ]
  },
  {
   "cell_type": "code",
   "execution_count": 524,
   "metadata": {},
   "outputs": [
    {
     "data": {
      "text/html": [
       "<div>\n",
       "<style scoped>\n",
       "    .dataframe tbody tr th:only-of-type {\n",
       "        vertical-align: middle;\n",
       "    }\n",
       "\n",
       "    .dataframe tbody tr th {\n",
       "        vertical-align: top;\n",
       "    }\n",
       "\n",
       "    .dataframe thead th {\n",
       "        text-align: right;\n",
       "    }\n",
       "</style>\n",
       "<table border=\"1\" class=\"dataframe\">\n",
       "  <thead>\n",
       "    <tr style=\"text-align: right;\">\n",
       "      <th></th>\n",
       "      <th>User_Name</th>\n",
       "      <th>Occupation</th>\n",
       "      <th>Profile_Link</th>\n",
       "      <th>question</th>\n",
       "      <th>Answer</th>\n",
       "      <th>Answered_On</th>\n",
       "      <th>Classification</th>\n",
       "      <th>Cleaned_Answers</th>\n",
       "      <th>Answer_Length</th>\n",
       "      <th>Unique_Words</th>\n",
       "      <th>Repetition_Ratio</th>\n",
       "      <th>Phone_Number_Yes</th>\n",
       "      <th>Max_Institution_Count</th>\n",
       "      <th>Total_Institution_Mentions</th>\n",
       "    </tr>\n",
       "  </thead>\n",
       "  <tbody>\n",
       "    <tr>\n",
       "      <th>762</th>\n",
       "      <td>Madhu Tivari</td>\n",
       "      <td>, lives in New Delhi (2010-present)</td>\n",
       "      <td>https://www.quora.com/profile/Madhu-Tivari</td>\n",
       "      <td>https://www.quora.com/What-are-some-good-Hadoo...</td>\n",
       "      <td>Hey, You asked here What are some good Hadoop ...</td>\n",
       "      <td>Updated Jul 17, 2018</td>\n",
       "      <td>Non Spam</td>\n",
       "      <td>hey asked good institutes delhi ncr list best ...</td>\n",
       "      <td>1862</td>\n",
       "      <td>166</td>\n",
       "      <td>11.216867</td>\n",
       "      <td>True</td>\n",
       "      <td>['techstack', 13]</td>\n",
       "      <td>16</td>\n",
       "    </tr>\n",
       "    <tr>\n",
       "      <th>2</th>\n",
       "      <td>Sunil</td>\n",
       "      <td>, Digital Marketing Executive at Self-Employme...</td>\n",
       "      <td>https://www.quora.com/profile/Sunil-677</td>\n",
       "      <td>https://www.quora.com/Which-institute-is-best-...</td>\n",
       "      <td>Here are Top 10 institutes that offer best Dat...</td>\n",
       "      <td>Updated Oct 12, 2018</td>\n",
       "      <td>Spam</td>\n",
       "      <td>top 10 institutes offer best delhi madrid soft...</td>\n",
       "      <td>3574</td>\n",
       "      <td>325</td>\n",
       "      <td>10.996923</td>\n",
       "      <td>False</td>\n",
       "      <td>['madrid', 8]</td>\n",
       "      <td>11</td>\n",
       "    </tr>\n",
       "    <tr>\n",
       "      <th>757</th>\n",
       "      <td>Techstack Institute</td>\n",
       "      <td>NaN</td>\n",
       "      <td>https://www.quora.com/profile/Techstack-Institute</td>\n",
       "      <td>https://www.quora.com/What-are-some-good-Hadoo...</td>\n",
       "      <td>TechstackHello Friend My name is **Vikram**. I...</td>\n",
       "      <td>Answered Aug 8, 2017</td>\n",
       "      <td>Spam</td>\n",
       "      <td>techstackhello friend name vikram working expe...</td>\n",
       "      <td>3348</td>\n",
       "      <td>316</td>\n",
       "      <td>10.594937</td>\n",
       "      <td>True</td>\n",
       "      <td>['techstack', 8]</td>\n",
       "      <td>11</td>\n",
       "    </tr>\n",
       "    <tr>\n",
       "      <th>756</th>\n",
       "      <td>Aditya Singh Rathore</td>\n",
       "      <td>, lives in New Delhi</td>\n",
       "      <td>https://www.quora.com/profile/Aditya-Singh-Rat...</td>\n",
       "      <td>https://www.quora.com/What-are-some-good-Hadoo...</td>\n",
       "      <td>Hello Friend, My name is Aditya and i am worki...</td>\n",
       "      <td>Updated Aug 10, 2018</td>\n",
       "      <td>Non Spam</td>\n",
       "      <td>hello friend name aditya working digital marke...</td>\n",
       "      <td>8555</td>\n",
       "      <td>649</td>\n",
       "      <td>13.181818</td>\n",
       "      <td>False</td>\n",
       "      <td>['techstack', 8]</td>\n",
       "      <td>10</td>\n",
       "    </tr>\n",
       "    <tr>\n",
       "      <th>255</th>\n",
       "      <td>Techstack Institute</td>\n",
       "      <td>NaN</td>\n",
       "      <td>https://www.quora.com/profile/Techstack-Institute</td>\n",
       "      <td>https://www.quora.com/Which-is-best-institute-...</td>\n",
       "      <td>Hello Friend My name is RAHUL. I am working as...</td>\n",
       "      <td>Answered Aug 8, 2017</td>\n",
       "      <td>Spam</td>\n",
       "      <td>hello friend name rahul working consultant gur...</td>\n",
       "      <td>507</td>\n",
       "      <td>56</td>\n",
       "      <td>9.053571</td>\n",
       "      <td>False</td>\n",
       "      <td>['techstack', 6]</td>\n",
       "      <td>9</td>\n",
       "    </tr>\n",
       "    <tr>\n",
       "      <th>634</th>\n",
       "      <td>Abhinav Krishnan</td>\n",
       "      <td>, lives in Bengaluru, Karnataka, India (2010-p...</td>\n",
       "      <td>https://www.quora.com/profile/Abhinav-Krishnan-17</td>\n",
       "      <td>https://www.quora.com/Which-is-a-good-training...</td>\n",
       "      <td>Bangalore is the Silicon Valley of India. Sinc...</td>\n",
       "      <td>Updated Jul 29, 2018 · Author has 163 answers ...</td>\n",
       "      <td>Marketing</td>\n",
       "      <td>bangalore silicon valley india since analytics...</td>\n",
       "      <td>1828</td>\n",
       "      <td>200</td>\n",
       "      <td>9.140000</td>\n",
       "      <td>False</td>\n",
       "      <td>['imarticus', 3]</td>\n",
       "      <td>9</td>\n",
       "    </tr>\n",
       "    <tr>\n",
       "      <th>135</th>\n",
       "      <td>Anonymous</td>\n",
       "      <td>, 5 years experience in Hadoop,Data Science,Sp...</td>\n",
       "      <td>https://www.quora.com/Which-institute-is-best-...</td>\n",
       "      <td>https://www.quora.com/Which-institute-is-best-...</td>\n",
       "      <td>Being an IT hub, I can figure out that you wil...</td>\n",
       "      <td>Answered Nov 5, 2018 · Author has 164 answers ...</td>\n",
       "      <td>Spam</td>\n",
       "      <td>hub figure get large number institutes providi...</td>\n",
       "      <td>1410</td>\n",
       "      <td>139</td>\n",
       "      <td>10.143885</td>\n",
       "      <td>False</td>\n",
       "      <td>['intellipaat', 9]</td>\n",
       "      <td>9</td>\n",
       "    </tr>\n",
       "    <tr>\n",
       "      <th>0</th>\n",
       "      <td>Kapil Nakra</td>\n",
       "      <td>, Cofounder at Digital Vidya</td>\n",
       "      <td>https://www.quora.com/profile/Kapil-Nakra</td>\n",
       "      <td>https://www.quora.com/Which-institute-is-best-...</td>\n",
       "      <td>How to choose the right data science / analyti...</td>\n",
       "      <td>Updated Jul 23, 2018 · Author has 614 answers ...</td>\n",
       "      <td>Marketing</td>\n",
       "      <td>choose right analytics framework encompassing ...</td>\n",
       "      <td>2805</td>\n",
       "      <td>275</td>\n",
       "      <td>10.200000</td>\n",
       "      <td>False</td>\n",
       "      <td>['digital vidya', 4]</td>\n",
       "      <td>8</td>\n",
       "    </tr>\n",
       "    <tr>\n",
       "      <th>593</th>\n",
       "      <td>Vidita Mehta</td>\n",
       "      <td>, lives in Mumbai, Maharashtra, India</td>\n",
       "      <td>https://www.quora.com/profile/Vidita-Mehta-1</td>\n",
       "      <td>https://www.quora.com/Which-is-a-better-instit...</td>\n",
       "      <td>Hi,I am glad that you’re choosing one of the m...</td>\n",
       "      <td>Answered Jun 7, 2018 · Author has 987 answers ...</td>\n",
       "      <td>Spam</td>\n",
       "      <td>hi glad choosing one booming careers technolog...</td>\n",
       "      <td>1115</td>\n",
       "      <td>118</td>\n",
       "      <td>9.449153</td>\n",
       "      <td>False</td>\n",
       "      <td>['imarticus', 8]</td>\n",
       "      <td>8</td>\n",
       "    </tr>\n",
       "    <tr>\n",
       "      <th>581</th>\n",
       "      <td>Vidita Mehta</td>\n",
       "      <td>, lives in Mumbai, Maharashtra, India</td>\n",
       "      <td>https://www.quora.com/profile/Vidita-Mehta-1</td>\n",
       "      <td>https://www.quora.com/Which-is-the-best-instit...</td>\n",
       "      <td>Hi,I am glad that you’re choosing one of the m...</td>\n",
       "      <td>Updated Jun 7, 2018 · Author has 987 answers a...</td>\n",
       "      <td>Spam</td>\n",
       "      <td>hi glad choosing one booming careers technolog...</td>\n",
       "      <td>1125</td>\n",
       "      <td>119</td>\n",
       "      <td>9.453782</td>\n",
       "      <td>False</td>\n",
       "      <td>['imarticus', 8]</td>\n",
       "      <td>8</td>\n",
       "    </tr>\n",
       "  </tbody>\n",
       "</table>\n",
       "</div>"
      ],
      "text/plain": [
       "                User_Name                                         Occupation  \\\n",
       "762          Madhu Tivari                , lives in New Delhi (2010-present)   \n",
       "2                   Sunil  , Digital Marketing Executive at Self-Employme...   \n",
       "757   Techstack Institute                                                NaN   \n",
       "756  Aditya Singh Rathore                               , lives in New Delhi   \n",
       "255   Techstack Institute                                                NaN   \n",
       "634      Abhinav Krishnan  , lives in Bengaluru, Karnataka, India (2010-p...   \n",
       "135             Anonymous  , 5 years experience in Hadoop,Data Science,Sp...   \n",
       "0             Kapil Nakra                       , Cofounder at Digital Vidya   \n",
       "593          Vidita Mehta              , lives in Mumbai, Maharashtra, India   \n",
       "581          Vidita Mehta              , lives in Mumbai, Maharashtra, India   \n",
       "\n",
       "                                          Profile_Link  \\\n",
       "762         https://www.quora.com/profile/Madhu-Tivari   \n",
       "2              https://www.quora.com/profile/Sunil-677   \n",
       "757  https://www.quora.com/profile/Techstack-Institute   \n",
       "756  https://www.quora.com/profile/Aditya-Singh-Rat...   \n",
       "255  https://www.quora.com/profile/Techstack-Institute   \n",
       "634  https://www.quora.com/profile/Abhinav-Krishnan-17   \n",
       "135  https://www.quora.com/Which-institute-is-best-...   \n",
       "0            https://www.quora.com/profile/Kapil-Nakra   \n",
       "593       https://www.quora.com/profile/Vidita-Mehta-1   \n",
       "581       https://www.quora.com/profile/Vidita-Mehta-1   \n",
       "\n",
       "                                              question  \\\n",
       "762  https://www.quora.com/What-are-some-good-Hadoo...   \n",
       "2    https://www.quora.com/Which-institute-is-best-...   \n",
       "757  https://www.quora.com/What-are-some-good-Hadoo...   \n",
       "756  https://www.quora.com/What-are-some-good-Hadoo...   \n",
       "255  https://www.quora.com/Which-is-best-institute-...   \n",
       "634  https://www.quora.com/Which-is-a-good-training...   \n",
       "135  https://www.quora.com/Which-institute-is-best-...   \n",
       "0    https://www.quora.com/Which-institute-is-best-...   \n",
       "593  https://www.quora.com/Which-is-a-better-instit...   \n",
       "581  https://www.quora.com/Which-is-the-best-instit...   \n",
       "\n",
       "                                                Answer  \\\n",
       "762  Hey, You asked here What are some good Hadoop ...   \n",
       "2    Here are Top 10 institutes that offer best Dat...   \n",
       "757  TechstackHello Friend My name is **Vikram**. I...   \n",
       "756  Hello Friend, My name is Aditya and i am worki...   \n",
       "255  Hello Friend My name is RAHUL. I am working as...   \n",
       "634  Bangalore is the Silicon Valley of India. Sinc...   \n",
       "135  Being an IT hub, I can figure out that you wil...   \n",
       "0    How to choose the right data science / analyti...   \n",
       "593  Hi,I am glad that you’re choosing one of the m...   \n",
       "581  Hi,I am glad that you’re choosing one of the m...   \n",
       "\n",
       "                                           Answered_On Classification  \\\n",
       "762                               Updated Jul 17, 2018       Non Spam   \n",
       "2                                 Updated Oct 12, 2018           Spam   \n",
       "757                               Answered Aug 8, 2017           Spam   \n",
       "756                               Updated Aug 10, 2018       Non Spam   \n",
       "255                               Answered Aug 8, 2017           Spam   \n",
       "634  Updated Jul 29, 2018 · Author has 163 answers ...      Marketing   \n",
       "135  Answered Nov 5, 2018 · Author has 164 answers ...           Spam   \n",
       "0    Updated Jul 23, 2018 · Author has 614 answers ...      Marketing   \n",
       "593  Answered Jun 7, 2018 · Author has 987 answers ...           Spam   \n",
       "581  Updated Jun 7, 2018 · Author has 987 answers a...           Spam   \n",
       "\n",
       "                                       Cleaned_Answers  Answer_Length  \\\n",
       "762  hey asked good institutes delhi ncr list best ...           1862   \n",
       "2    top 10 institutes offer best delhi madrid soft...           3574   \n",
       "757  techstackhello friend name vikram working expe...           3348   \n",
       "756  hello friend name aditya working digital marke...           8555   \n",
       "255  hello friend name rahul working consultant gur...            507   \n",
       "634  bangalore silicon valley india since analytics...           1828   \n",
       "135  hub figure get large number institutes providi...           1410   \n",
       "0    choose right analytics framework encompassing ...           2805   \n",
       "593  hi glad choosing one booming careers technolog...           1115   \n",
       "581  hi glad choosing one booming careers technolog...           1125   \n",
       "\n",
       "     Unique_Words  Repetition_Ratio  Phone_Number_Yes Max_Institution_Count  \\\n",
       "762           166         11.216867              True     ['techstack', 13]   \n",
       "2             325         10.996923             False         ['madrid', 8]   \n",
       "757           316         10.594937              True      ['techstack', 8]   \n",
       "756           649         13.181818             False      ['techstack', 8]   \n",
       "255            56          9.053571             False      ['techstack', 6]   \n",
       "634           200          9.140000             False      ['imarticus', 3]   \n",
       "135           139         10.143885             False    ['intellipaat', 9]   \n",
       "0             275         10.200000             False  ['digital vidya', 4]   \n",
       "593           118          9.449153             False      ['imarticus', 8]   \n",
       "581           119          9.453782             False      ['imarticus', 8]   \n",
       "\n",
       "     Total_Institution_Mentions  \n",
       "762                          16  \n",
       "2                            11  \n",
       "757                          11  \n",
       "756                          10  \n",
       "255                           9  \n",
       "634                           9  \n",
       "135                           9  \n",
       "0                             8  \n",
       "593                           8  \n",
       "581                           8  "
      ]
     },
     "execution_count": 524,
     "metadata": {},
     "output_type": "execute_result"
    }
   ],
   "source": [
    "new_data.iloc[x]"
   ]
  },
  {
   "cell_type": "code",
   "execution_count": null,
   "metadata": {},
   "outputs": [],
   "source": []
  }
 ],
 "metadata": {
  "kernelspec": {
   "display_name": "Python 3",
   "language": "python",
   "name": "python3"
  },
  "language_info": {
   "codemirror_mode": {
    "name": "ipython",
    "version": 3
   },
   "file_extension": ".py",
   "mimetype": "text/x-python",
   "name": "python",
   "nbconvert_exporter": "python",
   "pygments_lexer": "ipython3",
   "version": "3.6.6"
  }
 },
 "nbformat": 4,
 "nbformat_minor": 2
}
