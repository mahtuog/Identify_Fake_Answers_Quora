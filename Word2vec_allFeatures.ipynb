{
  "nbformat": 4,
  "nbformat_minor": 0,
  "metadata": {
    "colab": {
      "name": "Word2vec-allFeatures.ipynb",
      "version": "0.3.2",
      "provenance": [],
      "collapsed_sections": []
    },
    "kernelspec": {
      "name": "python3",
      "display_name": "Python 3"
    }
  },
  "cells": [
    {
      "metadata": {
        "id": "cQP1bblmyB3U",
        "colab_type": "code",
        "outputId": "bc3c48c1-3f85-4c94-f597-0d0dbc68e005",
        "colab": {
          "base_uri": "https://localhost:8080/",
          "height": 54
        }
      },
      "cell_type": "code",
      "source": [
        "from google.colab import drive\n",
        "\n",
        "\n",
        "\n",
        "\n",
        "drive.mount('/content/drive')\n"
      ],
      "execution_count": 0,
      "outputs": [
        {
          "output_type": "stream",
          "text": [
            "Drive already mounted at /content/drive; to attempt to forcibly remount, call drive.mount(\"/content/drive\", force_remount=True).\n"
          ],
          "name": "stdout"
        }
      ]
    },
    {
      "metadata": {
        "id": "7_sLMxl-zuXI",
        "colab_type": "code",
        "outputId": "49404115-a98f-422d-d00f-564e2f506413",
        "colab": {
          "base_uri": "https://localhost:8080/",
          "height": 238
        }
      },
      "cell_type": "code",
      "source": [
        "import pandas as pd\n",
        "import numpy as np\n",
        "from nltk.stem.wordnet import WordNetLemmatizer\n",
        "from nltk.corpus import stopwords\n",
        "from sklearn.model_selection import train_test_split\n",
        "from sklearn.ensemble import AdaBoostClassifier\n",
        "from sklearn.ensemble import RandomForestClassifier\n",
        "from sklearn.ensemble import GradientBoostingClassifier\n",
        "from sklearn.model_selection import GridSearchCV\n",
        "from sklearn.model_selection import KFold\n",
        "from sklearn.tree import DecisionTreeClassifier\n",
        "from sklearn.naive_bayes import MultinomialNB\n",
        "import nltk\n",
        "import gensim\n",
        "from sklearn.model_selection import StratifiedShuffleSplit\n",
        "import pickle\n",
        "from sklearn.preprocessing import LabelEncoder\n",
        "from textblob import TextBlob\n",
        "from sklearn import metrics\n",
        "from sklearn.metrics import roc_curve,auc\n",
        "import warnings\n",
        "warnings.filterwarnings('ignore')\n",
        "import matplotlib.pyplot as plt\n",
        "nltk.download('stopwords')\n",
        "nltk.download('wordnet')\n",
        "nltk.download('brown')\n",
        "nltk.download('punkt')\n",
        "nltk.download('averaged_perceptron_tagger')"
      ],
      "execution_count": 0,
      "outputs": [
        {
          "output_type": "stream",
          "text": [
            "[nltk_data] Downloading package stopwords to /root/nltk_data...\n",
            "[nltk_data]   Package stopwords is already up-to-date!\n",
            "[nltk_data] Downloading package wordnet to /root/nltk_data...\n",
            "[nltk_data]   Package wordnet is already up-to-date!\n",
            "[nltk_data] Downloading package brown to /root/nltk_data...\n",
            "[nltk_data]   Package brown is already up-to-date!\n",
            "[nltk_data] Downloading package punkt to /root/nltk_data...\n",
            "[nltk_data]   Package punkt is already up-to-date!\n",
            "[nltk_data] Downloading package averaged_perceptron_tagger to\n",
            "[nltk_data]     /root/nltk_data...\n",
            "[nltk_data]   Package averaged_perceptron_tagger is already up-to-\n",
            "[nltk_data]       date!\n"
          ],
          "name": "stdout"
        },
        {
          "output_type": "execute_result",
          "data": {
            "text/plain": [
              "True"
            ]
          },
          "metadata": {
            "tags": []
          },
          "execution_count": 34
        }
      ]
    },
    {
      "metadata": {
        "id": "EOCb6yMZzx9w",
        "colab_type": "code",
        "colab": {}
      },
      "cell_type": "code",
      "source": [
        "\n",
        "path='/content/drive/My Drive/GoogleNews-vectors-negative300.bin'"
      ],
      "execution_count": 0,
      "outputs": []
    },
    {
      "metadata": {
        "id": "aSgW8rO6z1hs",
        "colab_type": "code",
        "outputId": "93784840-fdcd-4aea-92e9-9466c2aeacbc",
        "colab": {
          "base_uri": "https://localhost:8080/",
          "height": 51
        }
      },
      "cell_type": "code",
      "source": [
        "%%time\n",
        "word2vector=gensim.models.KeyedVectors.load_word2vec_format(path, binary=True)"
      ],
      "execution_count": 0,
      "outputs": [
        {
          "output_type": "stream",
          "text": [
            "CPU times: user 47.5 s, sys: 6.53 s, total: 54 s\n",
            "Wall time: 2min 48s\n"
          ],
          "name": "stdout"
        }
      ]
    },
    {
      "metadata": {
        "id": "g2HVSKVyz_Ef",
        "colab_type": "code",
        "colab": {}
      },
      "cell_type": "code",
      "source": [
        "pickle_in = open(\"new_data.pickle\",\"rb\")\n",
        "data = pickle.load(pickle_in)"
      ],
      "execution_count": 0,
      "outputs": []
    },
    {
      "metadata": {
        "id": "qsR4VVUI2Wh6",
        "colab_type": "code",
        "outputId": "e411678d-462d-4d4b-b10c-7f9520f51636",
        "colab": {
          "base_uri": "https://localhost:8080/",
          "height": 547
        }
      },
      "cell_type": "code",
      "source": [
        "data.head()"
      ],
      "execution_count": 0,
      "outputs": [
        {
          "output_type": "execute_result",
          "data": {
            "text/html": [
              "<div>\n",
              "<style scoped>\n",
              "    .dataframe tbody tr th:only-of-type {\n",
              "        vertical-align: middle;\n",
              "    }\n",
              "\n",
              "    .dataframe tbody tr th {\n",
              "        vertical-align: top;\n",
              "    }\n",
              "\n",
              "    .dataframe thead th {\n",
              "        text-align: right;\n",
              "    }\n",
              "</style>\n",
              "<table border=\"1\" class=\"dataframe\">\n",
              "  <thead>\n",
              "    <tr style=\"text-align: right;\">\n",
              "      <th></th>\n",
              "      <th>User_Name</th>\n",
              "      <th>Occupation</th>\n",
              "      <th>Profile_Link</th>\n",
              "      <th>question</th>\n",
              "      <th>Answer</th>\n",
              "      <th>Answered_On</th>\n",
              "      <th>Classification</th>\n",
              "      <th>Cleaned_Answers</th>\n",
              "      <th>Answer_Length</th>\n",
              "      <th>Unique_Words</th>\n",
              "      <th>Repetition_Ratio</th>\n",
              "      <th>Phone_Number_Yes</th>\n",
              "      <th>Max_Institution_Count</th>\n",
              "      <th>Total_Institution_Mentions</th>\n",
              "      <th>Total_Words</th>\n",
              "    </tr>\n",
              "  </thead>\n",
              "  <tbody>\n",
              "    <tr>\n",
              "      <th>0</th>\n",
              "      <td>Kapil Nakra</td>\n",
              "      <td>, Cofounder at Digital Vidya</td>\n",
              "      <td>https://www.quora.com/profile/Kapil-Nakra</td>\n",
              "      <td>https://www.quora.com/Which-institute-is-best-...</td>\n",
              "      <td>How to choose the right data science / analyti...</td>\n",
              "      <td>Updated Jul 23, 2018 · Author has 614 answers ...</td>\n",
              "      <td>2</td>\n",
              "      <td>choose right analytics framework encompassing ...</td>\n",
              "      <td>2749</td>\n",
              "      <td>272</td>\n",
              "      <td>1.430147</td>\n",
              "      <td>False</td>\n",
              "      <td>4</td>\n",
              "      <td>8</td>\n",
              "      <td>389</td>\n",
              "    </tr>\n",
              "    <tr>\n",
              "      <th>1</th>\n",
              "      <td>Abhinav Krishnan</td>\n",
              "      <td>, Data Scientist (2012-present)</td>\n",
              "      <td>https://www.quora.com/profile/Abhinav-Krishnan-17</td>\n",
              "      <td>https://www.quora.com/Which-institute-is-best-...</td>\n",
              "      <td>Data science has become a part of many academi...</td>\n",
              "      <td>Answered Jan 29, 2018 · Author has 163 answers...</td>\n",
              "      <td>2</td>\n",
              "      <td>become part many academic research areas uses ...</td>\n",
              "      <td>1139</td>\n",
              "      <td>124</td>\n",
              "      <td>1.217742</td>\n",
              "      <td>False</td>\n",
              "      <td>1</td>\n",
              "      <td>2</td>\n",
              "      <td>151</td>\n",
              "    </tr>\n",
              "    <tr>\n",
              "      <th>2</th>\n",
              "      <td>Sunil</td>\n",
              "      <td>, Digital Marketing Executive at Self-Employme...</td>\n",
              "      <td>https://www.quora.com/profile/Sunil-677</td>\n",
              "      <td>https://www.quora.com/Which-institute-is-best-...</td>\n",
              "      <td>Here are Top 10 institutes that offer best Dat...</td>\n",
              "      <td>Updated Oct 12, 2018</td>\n",
              "      <td>1</td>\n",
              "      <td>top 10 institutes offer best delhi madrid soft...</td>\n",
              "      <td>3534</td>\n",
              "      <td>322</td>\n",
              "      <td>1.397516</td>\n",
              "      <td>False</td>\n",
              "      <td>8</td>\n",
              "      <td>11</td>\n",
              "      <td>450</td>\n",
              "    </tr>\n",
              "    <tr>\n",
              "      <th>3</th>\n",
              "      <td>Abhisek Chaudhary</td>\n",
              "      <td>, Python Developer  (2014-present)</td>\n",
              "      <td>https://www.quora.com/profile/Abhisek-Chaudhary-2</td>\n",
              "      <td>https://www.quora.com/Which-institute-is-best-...</td>\n",
              "      <td>Before Joining any institute,Please read below...</td>\n",
              "      <td>Updated Mar 27, 2018</td>\n",
              "      <td>1</td>\n",
              "      <td>joining institute please read points also alwa...</td>\n",
              "      <td>1142</td>\n",
              "      <td>122</td>\n",
              "      <td>1.286885</td>\n",
              "      <td>False</td>\n",
              "      <td>3</td>\n",
              "      <td>4</td>\n",
              "      <td>157</td>\n",
              "    </tr>\n",
              "    <tr>\n",
              "      <th>4</th>\n",
              "      <td>Shweta Doshi</td>\n",
              "      <td>, Co-Founder GreyAtom,Data Science Immersive L...</td>\n",
              "      <td>https://www.quora.com/profile/Shweta-Doshi-12</td>\n",
              "      <td>https://www.quora.com/Which-institute-is-best-...</td>\n",
              "      <td>Since 2013, Data Science scene in India has re...</td>\n",
              "      <td>Answered Jun 3, 2017 · Author has 494 answers ...</td>\n",
              "      <td>2</td>\n",
              "      <td>since 2013 scene india really flourished lot a...</td>\n",
              "      <td>2131</td>\n",
              "      <td>221</td>\n",
              "      <td>1.194570</td>\n",
              "      <td>False</td>\n",
              "      <td>5</td>\n",
              "      <td>6</td>\n",
              "      <td>264</td>\n",
              "    </tr>\n",
              "  </tbody>\n",
              "</table>\n",
              "</div>"
            ],
            "text/plain": [
              "           User_Name                                         Occupation  \\\n",
              "0        Kapil Nakra                       , Cofounder at Digital Vidya   \n",
              "1   Abhinav Krishnan                    , Data Scientist (2012-present)   \n",
              "2              Sunil  , Digital Marketing Executive at Self-Employme...   \n",
              "3  Abhisek Chaudhary                 , Python Developer  (2014-present)   \n",
              "4       Shweta Doshi  , Co-Founder GreyAtom,Data Science Immersive L...   \n",
              "\n",
              "                                        Profile_Link  \\\n",
              "0          https://www.quora.com/profile/Kapil-Nakra   \n",
              "1  https://www.quora.com/profile/Abhinav-Krishnan-17   \n",
              "2            https://www.quora.com/profile/Sunil-677   \n",
              "3  https://www.quora.com/profile/Abhisek-Chaudhary-2   \n",
              "4      https://www.quora.com/profile/Shweta-Doshi-12   \n",
              "\n",
              "                                            question  \\\n",
              "0  https://www.quora.com/Which-institute-is-best-...   \n",
              "1  https://www.quora.com/Which-institute-is-best-...   \n",
              "2  https://www.quora.com/Which-institute-is-best-...   \n",
              "3  https://www.quora.com/Which-institute-is-best-...   \n",
              "4  https://www.quora.com/Which-institute-is-best-...   \n",
              "\n",
              "                                              Answer  \\\n",
              "0  How to choose the right data science / analyti...   \n",
              "1  Data science has become a part of many academi...   \n",
              "2  Here are Top 10 institutes that offer best Dat...   \n",
              "3  Before Joining any institute,Please read below...   \n",
              "4  Since 2013, Data Science scene in India has re...   \n",
              "\n",
              "                                         Answered_On  Classification  \\\n",
              "0  Updated Jul 23, 2018 · Author has 614 answers ...               2   \n",
              "1  Answered Jan 29, 2018 · Author has 163 answers...               2   \n",
              "2                               Updated Oct 12, 2018               1   \n",
              "3                               Updated Mar 27, 2018               1   \n",
              "4  Answered Jun 3, 2017 · Author has 494 answers ...               2   \n",
              "\n",
              "                                     Cleaned_Answers  Answer_Length  \\\n",
              "0  choose right analytics framework encompassing ...           2749   \n",
              "1  become part many academic research areas uses ...           1139   \n",
              "2  top 10 institutes offer best delhi madrid soft...           3534   \n",
              "3  joining institute please read points also alwa...           1142   \n",
              "4  since 2013 scene india really flourished lot a...           2131   \n",
              "\n",
              "   Unique_Words  Repetition_Ratio  Phone_Number_Yes  Max_Institution_Count  \\\n",
              "0           272          1.430147             False                      4   \n",
              "1           124          1.217742             False                      1   \n",
              "2           322          1.397516             False                      8   \n",
              "3           122          1.286885             False                      3   \n",
              "4           221          1.194570             False                      5   \n",
              "\n",
              "   Total_Institution_Mentions  Total_Words  \n",
              "0                           8          389  \n",
              "1                           2          151  \n",
              "2                          11          450  \n",
              "3                           4          157  \n",
              "4                           6          264  "
            ]
          },
          "metadata": {
            "tags": []
          },
          "execution_count": 6
        }
      ]
    },
    {
      "metadata": {
        "id": "OjUTwxNN2aRR",
        "colab_type": "code",
        "colab": {}
      },
      "cell_type": "code",
      "source": [
        "data=data[data['Classification']!=2]"
      ],
      "execution_count": 0,
      "outputs": []
    },
    {
      "metadata": {
        "id": "NnblZFke4X11",
        "colab_type": "code",
        "colab": {}
      },
      "cell_type": "code",
      "source": [
        "\n",
        "data['Answer']=data['Answer'].str.lower()\n",
        "\n",
        "data['Answer']=data['Answer'].str.replace('[^a-z ]','')\n"
      ],
      "execution_count": 0,
      "outputs": []
    },
    {
      "metadata": {
        "id": "ng0vDM_JA3DY",
        "colab_type": "code",
        "colab": {}
      },
      "cell_type": "code",
      "source": [
        "le=LabelEncoder()\n",
        "data['Phone_Number_Yes']=le.fit_transform(data['Phone_Number_Yes'])"
      ],
      "execution_count": 0,
      "outputs": []
    },
    {
      "metadata": {
        "id": "oihT5_9j3Kul",
        "colab_type": "code",
        "colab": {}
      },
      "cell_type": "code",
      "source": [
        "x=data.drop('Classification',axis=1)\n",
        "y=data[['Classification']]"
      ],
      "execution_count": 0,
      "outputs": []
    },
    {
      "metadata": {
        "id": "6TzmIwDa3Rt5",
        "colab_type": "code",
        "colab": {}
      },
      "cell_type": "code",
      "source": [
        "X_train,X_test,y_train,y_test = train_test_split(x,y,test_size = 0.2, random_state=303,stratify=y)"
      ],
      "execution_count": 0,
      "outputs": []
    },
    {
      "metadata": {
        "id": "5wes0npP8BW4",
        "colab_type": "code",
        "colab": {}
      },
      "cell_type": "code",
      "source": [
        ""
      ],
      "execution_count": 0,
      "outputs": []
    },
    {
      "metadata": {
        "id": "Lje2t3M25_ic",
        "colab_type": "code",
        "colab": {}
      },
      "cell_type": "code",
      "source": [
        "train_answers=X_train['Answer']\n",
        "test_answers=X_test['Answer']"
      ],
      "execution_count": 0,
      "outputs": []
    },
    {
      "metadata": {
        "id": "NGBN8Ozj4NkC",
        "colab_type": "code",
        "outputId": "24bf71c1-cd5e-4353-cc79-65990f5d9303",
        "colab": {
          "base_uri": "https://localhost:8080/",
          "height": 34
        }
      },
      "cell_type": "code",
      "source": [
        "uniq_words = set()\n",
        "train_answers.str.split(' ').apply(uniq_words.update)\n",
        "uniq_words = list(uniq_words)\n",
        "len(uniq_words)\n",
        "\n",
        "stopwords = nltk.corpus.stopwords.words('english')\n",
        "words = set(uniq_words) - set(stopwords)\n",
        "words = list(words)\n",
        "len(words)\n",
        "\n",
        "list(uniq_words)[:5]"
      ],
      "execution_count": 0,
      "outputs": [
        {
          "output_type": "execute_result",
          "data": {
            "text/plain": [
              "['', 'supplement', 'happen', 'functionality', 'problem']"
            ]
          },
          "metadata": {
            "tags": []
          },
          "execution_count": 13
        }
      ]
    },
    {
      "metadata": {
        "id": "vjpBgQJq6HsG",
        "colab_type": "code",
        "outputId": "c3688293-b49f-4f35-d341-89a90b7339d7",
        "colab": {
          "base_uri": "https://localhost:8080/",
          "height": 34
        }
      },
      "cell_type": "code",
      "source": [
        "test_uniq_words = set()\n",
        "test_answers.str.split(' ').apply(test_uniq_words.update)\n",
        "test_uniq_words = list(test_uniq_words)\n",
        "len(test_uniq_words)\n",
        "\n",
        "stopwords = nltk.corpus.stopwords.words('english')\n",
        "test_words = set(test_uniq_words) - set(stopwords)\n",
        "test_words = list(test_words)\n",
        "len(test_words)\n",
        "\n",
        "list(test_uniq_words)[:5]"
      ],
      "execution_count": 0,
      "outputs": [
        {
          "output_type": "execute_result",
          "data": {
            "text/plain": [
              "['', 'biba', 'functionality', 'happen', 'supplement']"
            ]
          },
          "metadata": {
            "tags": []
          },
          "execution_count": 14
        }
      ]
    },
    {
      "metadata": {
        "id": "eY07-zwq6Oq6",
        "colab_type": "code",
        "outputId": "f7bf7130-cf9d-4186-ef7f-ea4acf4b2911",
        "colab": {
          "base_uri": "https://localhost:8080/",
          "height": 34
        }
      },
      "cell_type": "code",
      "source": [
        "wordvectors = {}\n",
        "for word in uniq_words:\n",
        "    try:\n",
        "        wordvectors[word] = word2vector[word]\n",
        "    except:\n",
        "        pass\n",
        "len(wordvectors)\n",
        "\n",
        "\n",
        "import gc\n",
        "gc.collect()"
      ],
      "execution_count": 0,
      "outputs": [
        {
          "output_type": "execute_result",
          "data": {
            "text/plain": [
              "86"
            ]
          },
          "metadata": {
            "tags": []
          },
          "execution_count": 15
        }
      ]
    },
    {
      "metadata": {
        "id": "zpWb6Xrk6SjI",
        "colab_type": "code",
        "outputId": "ba9389e7-5bcc-467b-d4d3-4ecce8dad31d",
        "colab": {
          "base_uri": "https://localhost:8080/",
          "height": 34
        }
      },
      "cell_type": "code",
      "source": [
        "test_wordvectors = {}\n",
        "for word in test_uniq_words:\n",
        "    try:\n",
        "        test_wordvectors[word] = word2vector[word]\n",
        "    except:\n",
        "        pass\n",
        "len(test_wordvectors)\n",
        "\n",
        "\n",
        "import gc\n",
        "gc.collect()"
      ],
      "execution_count": 0,
      "outputs": [
        {
          "output_type": "execute_result",
          "data": {
            "text/plain": [
              "79"
            ]
          },
          "metadata": {
            "tags": []
          },
          "execution_count": 16
        }
      ]
    },
    {
      "metadata": {
        "id": "mmCzmNfP7H1I",
        "colab_type": "text"
      },
      "cell_type": "markdown",
      "source": [
        "Custom Functions for vectorization of words and Model Threshold Increase"
      ]
    },
    {
      "metadata": {
        "id": "Gnh5riF77Gm5",
        "colab_type": "code",
        "colab": {}
      },
      "cell_type": "code",
      "source": [
        "def sent_vectorizer(sent, model):\n",
        "    sent_vec =[]\n",
        "    numw = 0\n",
        "    for w in sent:\n",
        "        try:\n",
        "            if numw == 0:\n",
        "                sent_vec = model[w]\n",
        "            else:\n",
        "                sent_vec = np.add(sent_vec, model[w])\n",
        "            numw+=1\n",
        "        except:\n",
        "            pass\n",
        "    if len(sent_vec)==300:\n",
        "        return list(np.asarray(sent_vec) / numw)\n",
        "    else:\n",
        "        return np.zeros(300)"
      ],
      "execution_count": 0,
      "outputs": []
    },
    {
      "metadata": {
        "id": "PCaFTCA87cOC",
        "colab_type": "code",
        "colab": {}
      },
      "cell_type": "code",
      "source": [
        "def threshold_increase(preds):\n",
        "  range_list=np.arange(0.45,0.55,0.01)\n",
        "  for i in range_list:\n",
        "    probability=[1 if j >i else 0 for j in preds]\n",
        "    tn, fp, fn, tp =confusion_matrix(y_test,probability).ravel()\n",
        "    print('threshold of {}'.format(i),'tn :',tn,'fp :', fp,'fn :', fn,'tp :', tp)\n",
        "    "
      ],
      "execution_count": 0,
      "outputs": []
    },
    {
      "metadata": {
        "id": "DZ9CpJPP7fhW",
        "colab_type": "code",
        "colab": {}
      },
      "cell_type": "code",
      "source": [
        "train_embeddings = []\n",
        "for answer in train_answers:\n",
        "    train_embeddings.append(sent_vectorizer(answer.split(' '), wordvectors))\n",
        "    \n"
      ],
      "execution_count": 0,
      "outputs": []
    },
    {
      "metadata": {
        "id": "aMUG3J_MDEZy",
        "colab_type": "code",
        "colab": {}
      },
      "cell_type": "code",
      "source": [
        "test_embeddings = []\n",
        "for answers in test_answers:\n",
        "    test_embeddings.append(sent_vectorizer(answers.split(' '), wordvectors))\n"
      ],
      "execution_count": 0,
      "outputs": []
    },
    {
      "metadata": {
        "id": "Jpov7ak1CFnv",
        "colab_type": "text"
      },
      "cell_type": "markdown",
      "source": [
        "Creating arrays for Train data"
      ]
    },
    {
      "metadata": {
        "id": "Xb9znYYN9voY",
        "colab_type": "code",
        "colab": {}
      },
      "cell_type": "code",
      "source": [
        "#train_embeddings=np.array([train_embeddings])\n",
        "Answer_Length=np.array([['Answer_Length']])\n",
        "Unique_Words=np.array([X_train['Unique_Words']])\n",
        "Repetition_Ratio=np.array([X_train['Repetition_Ratio']])\n",
        "Max_Institution_Count=np.array([X_train['Max_Institution_Count']])\n",
        "Total_Institution_Mentions=np.array([X_train['Total_Institution_Mentions']])\n",
        "Phone_Number=np.array([X_train['Phone_Number_Yes']])"
      ],
      "execution_count": 0,
      "outputs": []
    },
    {
      "metadata": {
        "id": "M0y11_PgCAt0",
        "colab_type": "text"
      },
      "cell_type": "markdown",
      "source": [
        "Creating arrays for Test data"
      ]
    },
    {
      "metadata": {
        "id": "W61fx2FW-D-w",
        "colab_type": "code",
        "colab": {}
      },
      "cell_type": "code",
      "source": [
        "#test_embeddings=np.array([test_embeddings])\n",
        "Answer_Length_test=np.array([X_test['Answer_Length']])\n",
        "Unique_Words_test=np.array([X_test['Unique_Words']])\n",
        "Repetition_Ratio_test=np.array([X_test['Repetition_Ratio']])\n",
        "Max_Institution_Count_test=np.array([X_test['Max_Institution_Count']])\n",
        "Total_Institution_Mentions_test=np.array([X_test['Total_Institution_Mentions']])\n",
        "Phone_Number_test=np.array([X_test['Phone_Number_Yes']])"
      ],
      "execution_count": 0,
      "outputs": []
    },
    {
      "metadata": {
        "id": "W5L8GtgyDq3F",
        "colab_type": "code",
        "colab": {}
      },
      "cell_type": "code",
      "source": [
        ""
      ],
      "execution_count": 0,
      "outputs": []
    },
    {
      "metadata": {
        "id": "D_7wHofJSHqe",
        "colab_type": "code",
        "outputId": "75a4dd7b-f654-4717-fd22-0664d685ca9f",
        "colab": {
          "base_uri": "https://localhost:8080/",
          "height": 34
        }
      },
      "cell_type": "code",
      "source": [
        "X_train.Answer_Length.shape"
      ],
      "execution_count": 0,
      "outputs": [
        {
          "output_type": "execute_result",
          "data": {
            "text/plain": [
              "(556,)"
            ]
          },
          "metadata": {
            "tags": []
          },
          "execution_count": 23
        }
      ]
    },
    {
      "metadata": {
        "id": "oJFOf5lYVgVM",
        "colab_type": "code",
        "colab": {}
      },
      "cell_type": "code",
      "source": [
        "test_embeddings = np.hstack([test_embeddings,X_test.Answer_Length.values.reshape(-1,1),\n",
        "                                   X_test.Unique_Words.values.reshape(-1,1),X_test.Repetition_Ratio.values.reshape(-1,1)\n",
        "                                   ,X_test.Max_Institution_Count.values.reshape(-1,1),\n",
        "                                  X_test.Total_Institution_Mentions.values.reshape(-1,1)\n",
        "                                   ,X_test.Phone_Number_Yes.values.reshape(-1,1)])"
      ],
      "execution_count": 0,
      "outputs": []
    },
    {
      "metadata": {
        "id": "u7afmUx7973x",
        "colab_type": "code",
        "colab": {}
      },
      "cell_type": "code",
      "source": [
        "train_embeddings = np.hstack([train_embeddings,X_train.Answer_Length.values.reshape(-1,1),\n",
        "                                   X_train.Unique_Words.values.reshape(-1,1),X_train.Repetition_Ratio.values.reshape(-1,1)\n",
        "                                   ,X_train.Max_Institution_Count.values.reshape(-1,1),\n",
        "                                  X_train.Total_Institution_Mentions.values.reshape(-1,1)\n",
        "                                   ,X_train.Phone_Number_Yes.values.reshape(-1,1)])"
      ],
      "execution_count": 0,
      "outputs": []
    },
    {
      "metadata": {
        "id": "4DgOmYawV2Ms",
        "colab_type": "code",
        "colab": {}
      },
      "cell_type": "code",
      "source": [
        ""
      ],
      "execution_count": 0,
      "outputs": []
    },
    {
      "metadata": {
        "id": "Q_02cAdPV0Ew",
        "colab_type": "code",
        "colab": {}
      },
      "cell_type": "code",
      "source": [
        ""
      ],
      "execution_count": 0,
      "outputs": []
    },
    {
      "metadata": {
        "id": "B4KAKYAB2Ugn",
        "colab_type": "code",
        "colab": {}
      },
      "cell_type": "code",
      "source": [
        "import warnings\n",
        "warnings.filterwarnings('ignore')"
      ],
      "execution_count": 0,
      "outputs": []
    },
    {
      "metadata": {
        "id": "qtjpNDnRJxC7",
        "colab_type": "text"
      },
      "cell_type": "markdown",
      "source": [
        "# AdaBoost Classifier"
      ]
    },
    {
      "metadata": {
        "id": "r4UAlO8gJaij",
        "colab_type": "code",
        "colab": {}
      },
      "cell_type": "code",
      "source": [
        ""
      ],
      "execution_count": 0,
      "outputs": []
    },
    {
      "metadata": {
        "id": "WRFiIFctsTST",
        "colab_type": "code",
        "outputId": "c586aeba-5b98-4cc3-a3d0-50bace3652f6",
        "colab": {
          "base_uri": "https://localhost:8080/",
          "height": 376
        }
      },
      "cell_type": "code",
      "source": [
        "ab=AdaBoostClassifier(n_estimators=800)\n",
        "ab.fit(train_embeddings,y_train)\n",
        "predictions=ab.predict(test_embeddings)\n",
        "proba=ab.predict_proba(test_embeddings)[:,1]\n",
        "\n",
        "roc_auc_score_tf_ab = round(metrics.roc_auc_score(y_test,proba),4)\n",
        "f1_score_tf_ab = round(metrics.f1_score(y_test,predictions),4)\n",
        "accuracy_tf_ab = round(metrics.accuracy_score(y_test,predictions,4))\n",
        "\n",
        "# Plot ROC AUC\n",
        "fpr_tf_ab, tpr_tf_ab, thresholds = roc_curve(y_test,proba)\n",
        "roc_auc_tf_ab = metrics.auc(fpr_tf_ab, tpr_tf_ab)\n",
        "# Plot ROC curve\n",
        "plt.plot(fpr_tf_ab, tpr_tf_ab, label='ROC curve (area = %0.3f)' % roc_auc_tf_ab)\n",
        "plt.plot([0, 1], [0, 1], 'k--')  # random predictions curve\n",
        "plt.xlim([0.0, 1.0])\n",
        "plt.ylim([0.0, 1.0])\n",
        "plt.xlabel('False Positive Rate or (1 - Specifity)')\n",
        "plt.ylabel('True Positive Rate or (Sensitivity)')\n",
        "plt.title('AdaBoost - ROC_AUC:'+str(roc_auc_score_tf_ab)+'| F1 Score:'+str(f1_score_tf_ab))\n",
        "plt.legend(loc=\"lower right\")\n",
        "plt.show()"
      ],
      "execution_count": 0,
      "outputs": [
        {
          "output_type": "display_data",
          "data": {
            "image/png": "[encoded data removed]",
            "text/plain": [
              "<matplotlib.figure.Figure at 0x7f16add10438>"
            ]
          },
          "metadata": {
            "tags": []
          }
        }
      ]
    },
    {
      "metadata": {
        "id": "8haXCRKc1M3Y",
        "colab_type": "text"
      },
      "cell_type": "markdown",
      "source": [
        "#RandomForest\n"
      ]
    },
    {
      "metadata": {
        "id": "5All2E9I-saD",
        "colab_type": "code",
        "outputId": "0b6496b6-1d65-444f-ce37-1df044a5cdd7",
        "colab": {
          "base_uri": "https://localhost:8080/",
          "height": 393
        }
      },
      "cell_type": "code",
      "source": [
        "param_grid = dict(max_depth=np.arange(5,100,5))\n",
        "model = RandomForestClassifier()\n",
        "grid = GridSearchCV(estimator=model, param_grid=param_grid, scoring='roc_auc', cv=3)\n",
        "grid_result = grid.fit(train_embeddings, y_train)\n",
        "print('Best Grid Search Parameters: ',grid_result.best_params_)\n",
        "rf = RandomForestClassifier(max_depth=grid_result.best_params_['max_depth'],n_estimators=800)\n",
        "rf.fit(train_embeddings,y_train)\n",
        "proba = rf.predict_proba(test_embeddings)[:,1]\n",
        "predictions = rf.predict(test_embeddings)\n",
        "roc_auc_score_tf_rf = round(metrics.roc_auc_score(y_test,proba),4)\n",
        "f1_score_tf_rf = round(metrics.f1_score(y_test,predictions),4)\n",
        "accuracy_tf_rf = round(metrics.accuracy_score(y_test,predictions,4))\n",
        "\n",
        "# Plot ROC AUC\n",
        "fpr_tf_rf, tpr_tf_rf, thresholds_tf_rf = roc_curve(y_test,proba)\n",
        "roc_auc_tf_rf = metrics.auc(fpr_tf_rf, tpr_tf_rf)\n",
        "# Plot ROC curve\n",
        "plt.plot(fpr_tf_rf, tpr_tf_rf, label='ROC curve (area = %0.3f)' % roc_auc_tf_rf)\n",
        "plt.plot([0, 1], [0, 1], 'k--')  # random predictions curve\n",
        "plt.xlim([0.0, 1.0])\n",
        "plt.ylim([0.0, 1.0])\n",
        "plt.xlabel('False Positive Rate or (1 - Specifity)')\n",
        "plt.ylabel('True Positive Rate or (Sensitivity)')\n",
        "plt.title('Random Forest - ROC_AUC:'+str(roc_auc_score_tf_rf)+'| F1 Score:'+str(f1_score_tf_rf))\n",
        "plt.legend(loc=\"lower right\")\n",
        "plt.show()"
      ],
      "execution_count": 0,
      "outputs": [
        {
          "output_type": "stream",
          "text": [
            "Best Grid Search Parameters:  {'max_depth': 10}\n"
          ],
          "name": "stdout"
        },
        {
          "output_type": "display_data",
          "data": {
            "image/png": "[encoded data removed]",
            "text/plain": [
              "<matplotlib.figure.Figure at 0x7f16adcc1a58>"
            ]
          },
          "metadata": {
            "tags": []
          }
        }
      ]
    },
    {
      "metadata": {
        "id": "oxMNpuGU3L7Y",
        "colab_type": "text"
      },
      "cell_type": "markdown",
      "source": [
        "# Gradient Boosting\n",
        "\n",
        "\n"
      ]
    },
    {
      "metadata": {
        "colab_type": "code",
        "outputId": "042e2dcb-544d-49e3-b5db-708246a4da33",
        "id": "sOw4zysRchp7",
        "colab": {
          "base_uri": "https://localhost:8080/",
          "height": 376
        }
      },
      "cell_type": "code",
      "source": [
        "gb=GradientBoostingClassifier(n_estimators=800)\n",
        "gb.fit(train_embeddings,y_train)\n",
        "predictions=gb.predict(test_embeddings)\n",
        "proba=gb.predict_proba(test_embeddings)[:,1]\n",
        "\n",
        "roc_auc_score_tf_gb = round(metrics.roc_auc_score(y_test,proba),4)\n",
        "f1_score_tf_gb = round(metrics.f1_score(y_test,predictions),4)\n",
        "accuracy_tf_gb = round(metrics.accuracy_score(y_test,predictions,4))\n",
        "\n",
        "# Plot ROC AUC\n",
        "fpr_tf_gb, tpr_tf_gb, thresholds = roc_curve(y_test,proba)\n",
        "roc_auc_tf_gb = metrics.auc(fpr_tf_gb, tpr_tf_gb)\n",
        "# Plot ROC curve\n",
        "plt.plot(fpr_tf_gb, tpr_tf_gb, label='ROC curve (area = %0.3f)' % roc_auc_tf_gb)\n",
        "plt.plot([0, 1], [0, 1], 'k--')  # random predictions curve\n",
        "plt.xlim([0.0, 1.0])\n",
        "plt.ylim([0.0, 1.0])\n",
        "plt.xlabel('False Positive Rate or (1 - Specifity)')\n",
        "plt.ylabel('True Positive Rate or (Sensitivity)')\n",
        "plt.title('Gradient Boost - ROC_AUC:'+str(roc_auc_score_tf_gb)+' | F1 Score:'+str(f1_score_tf_gb))\n",
        "plt.legend(loc=\"lower right\")\n",
        "plt.show()"
      ],
      "execution_count": 0,
      "outputs": [
        {
          "output_type": "display_data",
          "data": {
            "image/png": "[encoded data removed]",
            "text/plain": [
              "<matplotlib.figure.Figure at 0x7f16adc3e128>"
            ]
          },
          "metadata": {
            "tags": []
          }
        }
      ]
    },
    {
      "metadata": {
        "id": "AxL6LBtAS99U",
        "colab_type": "text"
      },
      "cell_type": "markdown",
      "source": [
        "# Model Comparison"
      ]
    },
    {
      "metadata": {
        "id": "sXz8iXjpbsDJ",
        "colab_type": "code",
        "outputId": "eea235a1-3599-4293-9c9b-5b7a5fba21ad",
        "colab": {
          "base_uri": "https://localhost:8080/",
          "height": 403
        }
      },
      "cell_type": "code",
      "source": [
        "\n",
        "plt.figure(figsize=(8,6))\n",
        "plt.plot(fpr_tf_rf, tpr_tf_rf, label='ROC curve RF (area = %0.3f)' % roc_auc_score_tf_rf,c='red')\n",
        "plt.plot(fpr_tf_ab, tpr_tf_ab, label='ROC curve AB (area = %0.3f)' % roc_auc_tf_ab,c='blue')\n",
        "plt.plot(fpr_tf_gb, tpr_tf_gb, label='ROC curve GB (area = %0.3f)' % roc_auc_tf_gb,c='orange')\n",
        "plt.plot([0, 1], [0, 1], 'k--')  # random predictions curve\n",
        "plt.xlim([0.0, 1.0])\n",
        "plt.ylim([0.0, 1.0])\n",
        "plt.title('Model Building using All-Features-Word2vec')\n",
        "plt.xlabel('False Positive Rate or (1 - Specifity)')\n",
        "plt.ylabel('True Positive Rate or (Sensitivity)')\n",
        "plt.legend(loc=\"lower right\")\n",
        "plt.show()"
      ],
      "execution_count": 0,
      "outputs": [
        {
          "output_type": "display_data",
          "data": {
            "image/png": "[encoded data removed]",
            "text/plain": [
              "<matplotlib.figure.Figure at 0x7f16adc68748>"
            ]
          },
          "metadata": {
            "tags": []
          }
        }
      ]
    },
    {
      "metadata": {
        "id": "D8MbeQ4GLhpS",
        "colab_type": "code",
        "colab": {}
      },
      "cell_type": "code",
      "source": [
        ""
      ],
      "execution_count": 0,
      "outputs": []
    }
  ]
}