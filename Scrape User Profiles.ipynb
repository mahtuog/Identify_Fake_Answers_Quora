{
 "cells": [
  {
   "cell_type": "code",
   "execution_count": 2,
   "metadata": {},
   "outputs": [],
   "source": [
    "import pandas as pd\n",
    "import bs4,urllib\n",
    "import requests\n",
    "from tqdm import tqdm"
   ]
  },
  {
   "cell_type": "code",
   "execution_count": 3,
   "metadata": {},
   "outputs": [],
   "source": [
    "data = pd.read_pickle('north_data.pickle')\n",
    "user_profiles = []\n",
    "for i in range(0,len(data)):\n",
    "    q_links = data['Scraped_info'][i]['Profile_Link']\n",
    "    for link in q_links:\n",
    "        if link not in user_profiles:\n",
    "            user_profiles.append(link)"
   ]
  },
  {
   "cell_type": "code",
   "execution_count": null,
   "metadata": {},
   "outputs": [
    {
     "name": "stderr",
     "output_type": "stream",
     "text": [
      " 14%|██████████▋                                                                    | 69/510 [38:34<4:20:32, 35.45s/it]"
     ]
    }
   ],
   "source": [
    "profiles_df = pd.DataFrame(columns=['Profile_Link','Question','Date','Answer'])#'Upvotes'])\n",
    "for i in tqdm(range(0,len(user_profiles))):\n",
    "    page = urllib.request.urlopen(user_profiles[i]).read()\n",
    "    soup = bs4.BeautifulSoup(page,'lxml')\n",
    "    all_questions = soup.findAll('div',{'class':'pagedlist_item'})\n",
    "    for i in range(0,len(all_questions)):\n",
    "        try:\n",
    "            question = all_questions[i].find('a',{'class':'question_link'}).get_text()\n",
    "            date = all_questions[i].find('a',{'class':'answer_permalink'}).get_text()\n",
    "            answer_more_link = 'https://www.quora.com'+all_questions[i].find('a',{'class':'ui_qtext_more_link'})['href']\n",
    "            answer_page = urllib.request.urlopen(answer_more_link)\n",
    "            answer_soup = bs4.BeautifulSoup(answer_page,'lxml')\n",
    "            full_answer = answer_soup.find('div',{'class':'ui_qtext_expanded'}).get_text()\n",
    "            #upvotes = answer_soup.findAll('span',{'class':'ui_button_count_optimistic_counts'}).get_text()\n",
    "        except:\n",
    "            pass\n",
    "        curr_row = {'Profile_Link':i ,\n",
    "                    'Question':question,\n",
    "                    'Date':date,\n",
    "                    'Answer':full_answer }\n",
    "        profiles_df = profiles_df.append(curr_row,ignore_index=True)"
   ]
  },
  {
   "cell_type": "code",
   "execution_count": null,
   "metadata": {},
   "outputs": [],
   "source": []
  },
  {
   "cell_type": "code",
   "execution_count": null,
   "metadata": {},
   "outputs": [],
   "source": []
  },
  {
   "cell_type": "code",
   "execution_count": null,
   "metadata": {},
   "outputs": [],
   "source": []
  },
  {
   "cell_type": "code",
   "execution_count": null,
   "metadata": {},
   "outputs": [],
   "source": []
  }
 ],
 "metadata": {
  "kernelspec": {
   "display_name": "Python 3",
   "language": "python",
   "name": "python3"
  },
  "language_info": {
   "codemirror_mode": {
    "name": "ipython",
    "version": 3
   },
   "file_extension": ".py",
   "mimetype": "text/x-python",
   "name": "python",
   "nbconvert_exporter": "python",
   "pygments_lexer": "ipython3",
   "version": "3.6.6"
  }
 },
 "nbformat": 4,
 "nbformat_minor": 2
}
